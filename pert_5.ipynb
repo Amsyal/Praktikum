{
  "nbformat": 4,
  "nbformat_minor": 0,
  "metadata": {
    "colab": {
      "provenance": [],
      "authorship_tag": "ABX9TyNfdK1eiRs/43IhWuUXyc6l",
      "include_colab_link": true
    },
    "kernelspec": {
      "name": "python3",
      "display_name": "Python 3"
    },
    "language_info": {
      "name": "python"
    }
  },
  "cells": [
    {
      "cell_type": "markdown",
      "metadata": {
        "id": "view-in-github",
        "colab_type": "text"
      },
      "source": [
        "<a href=\"https://colab.research.google.com/github/Amsyal/Praktikum/blob/main/pert_5.ipynb\" target=\"_parent\"><img src=\"https://colab.research.google.com/assets/colab-badge.svg\" alt=\"Open In Colab\"/></a>"
      ]
    },
    {
      "cell_type": "markdown",
      "source": [
        "Weekly Exercise 1\n",
        "Silahkan buat kode program untuk menunjukkan apakah angka yang diinputkan oleh user merupakan tahun kabisat atau tidak dengan ketentuan berikut ini :\n",
        "\n",
        "User diminta memasukkan angka (tahun)\n",
        "Program akan memproses angka yang dimasukkan kemudian akan dicek apakah tahun yang dimasukkan merupakan tahun kabisat atau bukan\n",
        "Program akan menampilkan angka yang dimasukkan oleh user disertai hasil pengecekan apakah merupakan tahun kabisat atau bukan tahun kabisat\n"
      ],
      "metadata": {
        "id": "dzc0n_jKC8VJ"
      }
    },
    {
      "cell_type": "code",
      "execution_count": 17,
      "metadata": {
        "colab": {
          "base_uri": "https://localhost:8080/"
        },
        "id": "3iwmHiL0Cqen",
        "outputId": "662a097e-eb6d-43be-cdbc-9dc74d1be6ef"
      },
      "outputs": [
        {
          "output_type": "stream",
          "name": "stdout",
          "text": [
            "Masukkan tahun: 2024\n",
            "2024 merupakan tahun kabisat\n"
          ]
        }
      ],
      "source": [
        "tahun = int(input(\"Masukkan tahun: \"))\n",
        "\n",
        "if tahun % 4 == 0:\n",
        "  print(tahun, \"merupakan tahun kabisat\")\n",
        "else:\n",
        "  print(tahun, \"bukan merupakan tahun kabisat\")"
      ]
    },
    {
      "cell_type": "markdown",
      "source": [
        "Weekly Exercise 2\n",
        "Silahkan buat kode program untuk menunjukkan angka terbesar berdasarkan 3 angka yang di inputkan oleh user dengan ketentuan berikut ini :\n",
        "\n",
        "User diminta memasukkan angka pertama\n",
        "\n",
        "User diminta memasukkan angka kedua\n",
        "\n",
        "User diminta memasukkan angka ketiga\n",
        "\n",
        "Program akan mengecek di antara ketiga angka yang dimasukkan, angka manakah yang nilai nya paling besar\n",
        "\n",
        "Program akan menampilkan angka pertama, angka kedua, angka ketiga, serta menampilkan pernyataan manakah angka yang paling besar di antara ketiga angka yang dimasukkan"
      ],
      "metadata": {
        "id": "wzgfLLvlDos5"
      }
    },
    {
      "cell_type": "code",
      "source": [
        "angka1 = float(input(\"Masukkan angka pertama: \"))\n",
        "angka2 = float(input(\"Masukkan angka kedua: \"))\n",
        "angka3 = float(input(\"Masukkan angka ketiga: \"))\n",
        "\n",
        "if angka1 > angka2 and angka1 > angka3:\n",
        "  print(angka1,\",\", angka2,\",\", angka3,\",\", \"Angka terbesar adalah\", angka1)\n",
        "elif angka2 > angka1 and angka2 > angka3:\n",
        "  print(angka1,\",\", angka2,\",\", angka3,\",\", \"Angka terbesar adalah\", angka2)\n",
        "else:\n",
        "  print(angka1,\",\", angka2,\",\", angka3,\",\", \"Angka terbesar adalah\", angka3)"
      ],
      "metadata": {
        "colab": {
          "base_uri": "https://localhost:8080/"
        },
        "id": "vkmtP_G8Dpx4",
        "outputId": "1cce56fb-105b-4034-e70e-3830a29d17e3"
      },
      "execution_count": 16,
      "outputs": [
        {
          "output_type": "stream",
          "name": "stdout",
          "text": [
            "Masukkan angka pertama: 545\n",
            "Masukkan angka kedua: 8756\n",
            "Masukkan angka ketiga: 928456\n",
            "545.0 , 8756.0 , 928456.0 , Angka terbesar adalah 928456.0\n"
          ]
        }
      ]
    },
    {
      "cell_type": "markdown",
      "source": [
        "Weekly Exercise 3\n",
        "Buatlah kode program untuk menghitung jumlah yang harus dibayarkan konsumen pusat perbelanjaan dengan ketentuan sebagai berikut :\n",
        "\n",
        "Terdapat 2 jenis konsumen, yaitu member dan non member\n",
        "\n",
        "Apabila total belanja lebih dari 100.000 maka berhak mendapatkan diskon 3 persen\n",
        "\n",
        "Apabila total belanja lebih dari 200.000 maka berhak mendapatkan diskon 4 persen\n",
        "\n",
        "Setiap pembelian yang dilakukan oleh member mendapatkan tambahan diskon 2 persen"
      ],
      "metadata": {
        "id": "j0mxIy_9Ez5z"
      }
    },
    {
      "cell_type": "code",
      "source": [
        "konsumen = input(\"Masukkan jenis konsumen(member/non-member): \")\n",
        "totalBelanja = float(input(\"Masukkan total belanja: \"))\n",
        "\n",
        "if totalBelanja > 200000:\n",
        "  if konsumen == \"member\":\n",
        "    totalBelanja = totalBelanja - (totalBelanja * 0.04 + totalBelanja * 0.02)\n",
        "    print(\"Total belanja yang harus dibayar adalah\", totalBelanja)\n",
        "  else:\n",
        "    totalBelanja = totalBelanja - (totalBelanja * 0.04)\n",
        "    print(\"Total belanja yang harus dibayar adalah\", totalBelanja)\n",
        "elif totalBelanja > 100000:\n",
        "  if konsumen == \"member\":\n",
        "    totalBelanja = totalBelanja - (totalBelanja * 0.03 + totalBelanja * 0.02)\n",
        "    print(\"Total belanja yang harus dibayar adalah\", totalBelanja)\n",
        "  else:\n",
        "    totalBelanja = totalBelanja - (totalBelanja * 0.03)\n",
        "    print(\"Total belanja yang harus dibayar adalah\", totalBelanja)\n",
        "else:\n",
        "  print(\"Belanja lebih banyak lagi!\")"
      ],
      "metadata": {
        "colab": {
          "base_uri": "https://localhost:8080/"
        },
        "id": "V6m_lm4uE4wC",
        "outputId": "81f283a8-1efb-49d3-8a76-98a9ae324e75"
      },
      "execution_count": 26,
      "outputs": [
        {
          "output_type": "stream",
          "name": "stdout",
          "text": [
            "Masukkan jenis konsumen(member/non-member): member\n",
            "Masukkan total belanja: 1000000\n",
            "Total belanja yang harus dibayar adalah 940000.0\n"
          ]
        }
      ]
    },
    {
      "cell_type": "markdown",
      "source": [
        "Buatlah kode program untuk membuat user baru pada sebuah sistem, dengan ketentuan sebagai berikut:\n",
        "\n",
        "User perlu memasukkan username, email, dan password\n",
        "\n",
        "User baru hanya akan sukses dibuat apabila:\n",
        "\n",
        "username tidak boleh kosong\n",
        "\n",
        "terdapat \"@\" pada alamat email\n",
        "\n",
        "panjang password lebih dari 8 karakter"
      ],
      "metadata": {
        "id": "XMHjxYV8GuLK"
      }
    },
    {
      "cell_type": "code",
      "source": [
        "userName = input(\"Masukkan username: \")\n",
        "email = input(\"Masukkan email: \")\n",
        "password = input(\"Masukkan password: \")\n",
        "\n",
        "if userName == \"\":\n",
        "  print(\"Username tidak boleh kosong\")\n",
        "elif \"@\" not in email:\n",
        "  print(\"Harus terdapat @ pada email\")\n",
        "elif len(password) < 8:\n",
        "  print(\"Password harus lebih dari 8 karakter\")\n",
        "else:\n",
        "  print(\"User berhasil dibuat\")"
      ],
      "metadata": {
        "colab": {
          "base_uri": "https://localhost:8080/"
        },
        "id": "akhI_HcOG035",
        "outputId": "49efc75f-ef98-4f1e-bd4b-65623ccc9c3f"
      },
      "execution_count": 12,
      "outputs": [
        {
          "name": "stdout",
          "output_type": "stream",
          "text": [
            "Masukkan username: a\n",
            "Masukkan email: \n",
            "Masukkan password: \n",
            "Email tidak valid\n"
          ]
        }
      ]
    }
  ]
}