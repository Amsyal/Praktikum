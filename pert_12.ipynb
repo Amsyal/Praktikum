{
  "nbformat": 4,
  "nbformat_minor": 0,
  "metadata": {
    "colab": {
      "provenance": [],
      "authorship_tag": "ABX9TyPPrHH6eMCQ+V+ZdPz0dsVZ",
      "include_colab_link": true
    },
    "kernelspec": {
      "name": "python3",
      "display_name": "Python 3"
    },
    "language_info": {
      "name": "python"
    }
  },
  "cells": [
    {
      "cell_type": "markdown",
      "metadata": {
        "id": "view-in-github",
        "colab_type": "text"
      },
      "source": [
        "<a href=\"https://colab.research.google.com/github/Amsyal/Praktikum/blob/main/pert_12.ipynb\" target=\"_parent\"><img src=\"https://colab.research.google.com/assets/colab-badge.svg\" alt=\"Open In Colab\"/></a>"
      ]
    },
    {
      "cell_type": "code",
      "execution_count": 15,
      "metadata": {
        "id": "6A5xuUKPppjt",
        "colab": {
          "base_uri": "https://localhost:8080/"
        },
        "outputId": "bc1c0d0a-81cd-4498-d676-500db5620b78"
      },
      "outputs": [
        {
          "name": "stdout",
          "output_type": "stream",
          "text": [
            "pilih salah satu perhitngan \n",
            "1. luas lingkaran, \n",
            "2. luas persegi, \n",
            "3. luas segitiga, \n",
            "4. selesai/enter untuk keluar:1\n",
            " masukkan panjang jari-jari: asaj\n",
            "Error: invalid literal for int() with base 10: 'asaj'\n",
            "pilih salah satu perhitngan \n",
            "1. luas lingkaran, \n",
            "2. luas persegi, \n",
            "3. luas segitiga, \n",
            "4. selesai/enter untuk keluar:4\n"
          ]
        }
      ],
      "source": [
        "def l_lingkaran(n):\n",
        "    return 3.14 * n * n\n",
        "\n",
        "def l_persegi(n):\n",
        "    return n * n\n",
        "\n",
        "def l_segitiga(alas, tinggi):\n",
        "    return (alas * tinggi) / 2\n",
        "\n",
        "\n",
        "while True:\n",
        "    perhitungan = input('pilih salah satu perhitngan \\n1. luas lingkaran, \\n2. luas persegi, \\n3. luas segitiga, \\n4. selesai/enter untuk keluar:').lower()\n",
        "    if perhitungan == \"luas lingkaran\" or perhitungan == \"1\":\n",
        "        try:\n",
        "            jari_jari = input(\" masukkan panjang jari-jari: \")\n",
        "            if not jari_jari:\n",
        "                raise ValueError(\"Input kosong tidak diizinkan\")\n",
        "            jari_jari = int(jari_jari)\n",
        "            print(l_lingkaran(jari_jari))\n",
        "        except ValueError as e:\n",
        "            print(f\"Error: {e}\")\n",
        "        except Exception:\n",
        "            print(\"Input harus berupa angka\")\n",
        "    elif perhitungan == \"luas persegi\" or perhitungan == \"2\":\n",
        "        try:\n",
        "          sisi = int(input('masukkan panjang sisi: '))\n",
        "          if not sisi:\n",
        "            raise ValueError(\"Input kosong tidak diizinkan\")\n",
        "          print(l_persegi(sisi))\n",
        "        except ValueError as e:\n",
        "          print(f\"Error: {e}\")\n",
        "        except Exception:\n",
        "          print(\"Input harus berupa angka\")\n",
        "    elif perhitungan == \"luas segitiga\" or perhitungan == \"3\":\n",
        "        try:\n",
        "          alas = int(input('masukkan panjang alas: '))\n",
        "          tinggi = int(input('masukkan panjang tinggi: '))\n",
        "          if not alas or not tinggi:\n",
        "            raise ValueError(\"Input kosong tidak diizinkan\")\n",
        "          print(l_segitiga(alas, tinggi))\n",
        "        except ValueError as e:\n",
        "          print(f\"Error: {e}\")\n",
        "        except Exception:\n",
        "          print(\"In\")\n",
        "    elif perhitungan == \"selesai\" or perhitungan == False or perhitungan == \"4\":\n",
        "        break\n",
        "    else:\n",
        "        print('Input harus berupa angka')"
      ]
    },
    {
      "cell_type": "code",
      "source": [
        "try:\n",
        "  npm = int(input(\"Masukkan NPM Anda: \"))\n",
        "\n",
        "  genap = []\n",
        "  ganjil = []\n",
        "\n",
        "  for i in npm:\n",
        "    if i % 2 == 0:\n",
        "      genap.append(npm[i])\n",
        "    else:\n",
        "      ganjil.append(npm[i])\n",
        "\n",
        "  print(\"Jumlah bilangan genap:\",len(genap))\n",
        "  print(\"Jumlah bilangan ganjil:\",len(ganjil))\n",
        "except:\n",
        "  print(\"Hanya boleh memasukan angka\")"
      ],
      "metadata": {
        "colab": {
          "base_uri": "https://localhost:8080/"
        },
        "id": "tNoLJ3m3YtxI",
        "outputId": "593aaf9f-d5e4-44e5-f1c0-2cd76d64ebfd"
      },
      "execution_count": 16,
      "outputs": [
        {
          "output_type": "stream",
          "name": "stdout",
          "text": [
            "Masukkan NPM Anda: gsvjvfwjfw\n",
            "Hanya boleh memasukan angka\n"
          ]
        }
      ]
    }
  ]
}