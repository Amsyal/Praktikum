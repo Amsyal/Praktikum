{
  "nbformat": 4,
  "nbformat_minor": 0,
  "metadata": {
    "colab": {
      "provenance": [],
      "authorship_tag": "ABX9TyOrGRrvFrfMn00Agr0coXaY",
      "include_colab_link": true
    },
    "kernelspec": {
      "name": "python3",
      "display_name": "Python 3"
    },
    "language_info": {
      "name": "python"
    }
  },
  "cells": [
    {
      "cell_type": "markdown",
      "metadata": {
        "id": "view-in-github",
        "colab_type": "text"
      },
      "source": [
        "<a href=\"https://colab.research.google.com/github/Amsyal/Praktikum/blob/main/pert_4.ipynb\" target=\"_parent\"><img src=\"https://colab.research.google.com/assets/colab-badge.svg\" alt=\"Open In Colab\"/></a>"
      ]
    },
    {
      "cell_type": "markdown",
      "source": [
        "Weekly exercise 1"
      ],
      "metadata": {
        "id": "AbYBD6Jl_KPX"
      }
    },
    {
      "cell_type": "code",
      "execution_count": 10,
      "metadata": {
        "colab": {
          "base_uri": "https://localhost:8080/"
        },
        "id": "Ec2yWzcB-Zyf",
        "outputId": "08d2d27a-08a0-4995-c6be-41601bc7c268"
      },
      "outputs": [
        {
          "output_type": "stream",
          "name": "stdout",
          "text": [
            "Masukkan umur Anda: 50\n",
            "Boleh membuat SIM\n"
          ]
        }
      ],
      "source": [
        "umur = int(input(\"Masukkan umur Anda: \"))\n",
        "\n",
        "if umur >= 17:\n",
        "  print(\"Boleh membuat SIM\")\n",
        "else:\n",
        "  print(\"Tidak boleh membuat SIM\")"
      ]
    },
    {
      "cell_type": "markdown",
      "source": [
        "Weekly exercise 2"
      ],
      "metadata": {
        "id": "xgj8Y_SpAC90"
      }
    },
    {
      "cell_type": "code",
      "source": [
        "nilai = int(input(\"Masukkan nilai: \"))\n",
        "\n",
        "if nilai >= 90:\n",
        "  print('Grade = \"A\"')\n",
        "elif nilai >= 80:\n",
        "    print('Grade = \"B+\"')\n",
        "elif nilai >= 70:\n",
        "    print('Grade = \"B\"')\n",
        "elif nilai >= 60:\n",
        "    print('Grade = \"C+\"')\n",
        "elif nilai >= 50:\n",
        "    print('Grade = \"C\"')\n",
        "elif nilai >= 40:\n",
        "    print('Grade = \"D\"')\n",
        "else:\n",
        "  print('Grade = \"E\"')\n"
      ],
      "metadata": {
        "colab": {
          "base_uri": "https://localhost:8080/"
        },
        "id": "y2lWJWOgAB-v",
        "outputId": "96158006-68d7-4103-a0cb-ad2217b10da6"
      },
      "execution_count": 18,
      "outputs": [
        {
          "output_type": "stream",
          "name": "stdout",
          "text": [
            "Masukkan nilai: 100\n",
            "Grade = \"A\"\n"
          ]
        }
      ]
    },
    {
      "cell_type": "markdown",
      "source": [
        "Weekly exercise 3"
      ],
      "metadata": {
        "id": "qxE-EMZ2BcvH"
      }
    },
    {
      "cell_type": "code",
      "source": [
        "nilai = float(input(\"Masukkan nilai: \"))\n",
        "\n",
        "if 80.00 <= nilai <= 100:\n",
        "  print('Grade = \"A\"')\n",
        "elif 77.50 <= nilai <=79.99:\n",
        "  print('Grade = \"A-\"')\n",
        "elif 75.00 <= nilai <=77.49:\n",
        "  print('Grade = \"A/B\"')\n",
        "elif 72.50 <= nilai <=74.99:\n",
        "  print('Grade = \"B+\"')\n",
        "elif 70.00 <= nilai <=72.49:\n",
        "  print('Grade = \"B\"')\n",
        "elif 67.50 <= nilai <=69.99:\n",
        "  print('Grade = \"B-\"')\n",
        "elif 65.50 <= nilai <=67.49:\n",
        "  print('Grade = \"B/C\"')\n",
        "elif 62.50 <= nilai <=64.99:\n",
        "  print('Grade = \"C+\"')\n",
        "elif 60.00 <= nilai <=62.49:\n",
        "  print('Grade = \"C\"')\n",
        "elif 55.00 <= nilai <=59.99:\n",
        "  print('Grade = \"C-\"')\n",
        "elif 50.00 <= nilai <=54.99:\n",
        "  print('Grade = \"C/D\"')\n",
        "elif 45.00 <= nilai <=49.99:\n",
        "  print('Grade = \"D+\"')\n",
        "elif 40.00 <= nilai <=49.99:\n",
        "  print('Grade = \"D\"')\n",
        "else:\n",
        "  print('Grade = \"E\"')\n"
      ],
      "metadata": {
        "colab": {
          "base_uri": "https://localhost:8080/"
        },
        "id": "0ELL_ILsAoZj",
        "outputId": "3706cbd3-c257-49cd-922e-6aec63966155"
      },
      "execution_count": 17,
      "outputs": [
        {
          "output_type": "stream",
          "name": "stdout",
          "text": [
            "Masukkan nilai: 79.66\n",
            "Grade = \"A-\"\n"
          ]
        }
      ]
    }
  ]
}