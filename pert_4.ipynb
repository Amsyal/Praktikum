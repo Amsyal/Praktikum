{
  "nbformat": 4,
  "nbformat_minor": 0,
  "metadata": {
    "colab": {
      "provenance": [],
      "authorship_tag": "ABX9TyPKJLrzAlmZRrEkicryGWlt",
      "include_colab_link": true
    },
    "kernelspec": {
      "name": "python3",
      "display_name": "Python 3"
    },
    "language_info": {
      "name": "python"
    }
  },
  "cells": [
    {
      "cell_type": "markdown",
      "metadata": {
        "id": "view-in-github",
        "colab_type": "text"
      },
      "source": [
        "<a href=\"https://colab.research.google.com/github/Amsyal/Praktikum/blob/main/pert_4.ipynb\" target=\"_parent\"><img src=\"https://colab.research.google.com/assets/colab-badge.svg\" alt=\"Open In Colab\"/></a>"
      ]
    },
    {
      "cell_type": "markdown",
      "source": [
        "Weekly exercise 1"
      ],
      "metadata": {
        "id": "AbYBD6Jl_KPX"
      }
    },
    {
      "cell_type": "code",
      "execution_count": 3,
      "metadata": {
        "colab": {
          "base_uri": "https://localhost:8080/"
        },
        "id": "Ec2yWzcB-Zyf",
        "outputId": "be6b5b83-f115-475d-bc43-5b0d1a29c051"
      },
      "outputs": [
        {
          "output_type": "stream",
          "name": "stdout",
          "text": [
            "Masukkan umur Anda: 15\n",
            "Tidak boleh membuat SIM\n"
          ]
        }
      ],
      "source": [
        "umur = int(input(\"Masukkan umur Anda: \"))\n",
        "\n",
        "if umur >= 17:\n",
        "  print(\"Boleh membuat SIM\")\n",
        "else:\n",
        "  print(\"Tidak boleh membuat SIM\")"
      ]
    },
    {
      "cell_type": "markdown",
      "source": [
        "Weekly exercise 2"
      ],
      "metadata": {
        "id": "xgj8Y_SpAC90"
      }
    },
    {
      "cell_type": "code",
      "source": [
        "nilai = int(input(\"Masukkan nilai: \"))\n",
        "\n",
        "if nilai >= 90:\n",
        "  print('Grade = \"A\"')\n",
        "elif nilai >= 80:\n",
        "    print('Grade = \"B+\"')\n",
        "elif nilai >= 70:\n",
        "    print('Grade = \"B\"')\n",
        "elif nilai >= 60:\n",
        "    print('Grade = \"C+\"')\n",
        "elif nilai >= 50:\n",
        "    print('Grade = \"C\"')\n",
        "elif nilai >= 40:\n",
        "    print('Grade = \"D\"')\n",
        "else:\n",
        "  print('Grade = \"E\"')\n"
      ],
      "metadata": {
        "colab": {
          "base_uri": "https://localhost:8080/"
        },
        "id": "y2lWJWOgAB-v",
        "outputId": "40c8bd18-7eba-48c1-a012-63ca2f7a5e25"
      },
      "execution_count": 6,
      "outputs": [
        {
          "output_type": "stream",
          "name": "stdout",
          "text": [
            "Masukkan nilai: 55\n",
            "Grade = \"C\"\n"
          ]
        }
      ]
    },
    {
      "cell_type": "markdown",
      "source": [
        "Weekly exercise 3"
      ],
      "metadata": {
        "id": "qxE-EMZ2BcvH"
      }
    },
    {
      "cell_type": "code",
      "source": [
        "nilai = int(input(\"Masukkan nilai: \"))\n",
        "\n",
        "if 80 <= nilai <= 100:\n",
        "  print('Grade = \"A\"')\n",
        "elif 77.50 <= nilai <=79.99:\n",
        "  print('Grade = \"A-\"')\n",
        "elif 75 <= nilai <=77.49:\n",
        "  print('Grade = \"A/B\"')\n",
        "elif 72.50 <= nilai <=74.99:\n",
        "  print('Grade = \"B+\"')\n",
        "elif 70 <= nilai <=72.49:\n",
        "  print('Grade = \"B\"')\n",
        "elif 67.50 <= nilai <=69.99:\n",
        "  print('Grade = \"B-\"')\n",
        "elif 65.50 <= nilai <=67.49:\n",
        "  print('Grade = \"B/C\"')\n",
        "elif 62.50 <= nilai <=64.99:\n",
        "  print('Grade = \"C+\"')\n",
        "elif 60 <= nilai <=62.49:\n",
        "  print('Grade = \"C\"')\n",
        "elif 55 <= nilai <=59.99:\n",
        "  print('Grade = \"C-\"')\n",
        "elif 50 <= nilai <=54.99:\n",
        "  print('Grade = \"C/D\"')\n",
        "elif 45 <= nilai <=49.99:\n",
        "  print('Grade = \"D+\"')\n",
        "elif 40 <= nilai <=49.99:\n",
        "  print('Grade = \"D\"')\n",
        "else:\n",
        "  print('Grade = \"E\"')\n"
      ],
      "metadata": {
        "colab": {
          "base_uri": "https://localhost:8080/"
        },
        "id": "0ELL_ILsAoZj",
        "outputId": "3e9d6c8f-a466-498c-8608-8d6311494270"
      },
      "execution_count": 8,
      "outputs": [
        {
          "output_type": "stream",
          "name": "stdout",
          "text": [
            "Masukkan nilai: 47\n",
            "Grade = \"D+\"\n"
          ]
        }
      ]
    }
  ]
}