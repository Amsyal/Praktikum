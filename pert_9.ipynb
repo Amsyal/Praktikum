{
  "nbformat": 4,
  "nbformat_minor": 0,
  "metadata": {
    "colab": {
      "provenance": [],
      "authorship_tag": "ABX9TyOrDi709tlNuE4+2pODORxR",
      "include_colab_link": true
    },
    "kernelspec": {
      "name": "python3",
      "display_name": "Python 3"
    },
    "language_info": {
      "name": "python"
    }
  },
  "cells": [
    {
      "cell_type": "markdown",
      "metadata": {
        "id": "view-in-github",
        "colab_type": "text"
      },
      "source": [
        "<a href=\"https://colab.research.google.com/github/Amsyal/Praktikum/blob/main/pert_9.ipynb\" target=\"_parent\"><img src=\"https://colab.research.google.com/assets/colab-badge.svg\" alt=\"Open In Colab\"/></a>"
      ]
    },
    {
      "cell_type": "markdown",
      "source": [
        "Perbedaan dari list, tuple, set dan dictionary dalam python:\n",
        "\n",
        "*   List adalah kumpulan data yang terurut dan dapat diubah. Mengizinkan anggota yang duplikat.\n",
        "*   Tuple adalah kumpulan data yang terurut dan tidak dapat diubah. Mengizinkan anggota yang duplikat.\n",
        "*   Set adalah kumpulan data yang tidak terurut, tidak dapat diubah, dan tidak terindeks. Tidak mengizinkan anggota yang duplikat.\n",
        "*   Dictionary adalah kumpulan data yang terurut dan dapat diubah. Tidak mengizinkan anggota yang duplikat.\n",
        "\n",
        "\n",
        "\n",
        "\n",
        "\n",
        "\n",
        "\n"
      ],
      "metadata": {
        "id": "WXMQ8ByqCkyx"
      }
    },
    {
      "cell_type": "code",
      "execution_count": 4,
      "metadata": {
        "colab": {
          "base_uri": "https://localhost:8080/"
        },
        "id": "WVOpcJy14gt4",
        "outputId": "05ac7034-1ad7-47f5-bdbb-ad894ebe9748"
      },
      "outputs": [
        {
          "output_type": "stream",
          "name": "stdout",
          "text": [
            "Nama : Trent-Alexander Amsal\n",
            "Kelas : 02\n",
            "Tanggal Lahir : 29 Februari 2006\n",
            "No. HP : 08122345678\n",
            "Alamat : Denmak\n",
            "Hobi :  Membaca, Menulis, Main bola\n"
          ]
        }
      ],
      "source": [
        "dictionary_mhs = {\n",
        "        \"Nama\" : \"Trent-Alexander Amsal\",\n",
        "        \"Kelas\" : \"02\",\n",
        "        \"Tanggal Lahir\" : \"29 Februari 2006\",\n",
        "        \"No. HP\" : \"08122345678\",\n",
        "        \"Alamat\" : \"Denmak\",\n",
        "        \"Hobi\" : {\n",
        "            \"Hobi 1\" : \"Membaca\",\n",
        "            \"Hobi 2\" : \"Menulis\",\n",
        "            \"Hobi 3\" : \"Main bola\",\n",
        "        }\n",
        "}\n",
        "\n",
        "for key, value in dictionary_mhs.items():\n",
        "  if key == \"Hobi\":\n",
        "    # Menggabungkan semua nilai hobi menjadi satu string\n",
        "    hobi_str = \", \".join(value.values())\n",
        "    print(key, \": \", hobi_str) # Menampilkan \"Hobi: \" diikuti string hobi\n",
        "  else:\n",
        "    print(key, \":\", value)"
      ]
    },
    {
      "cell_type": "markdown",
      "source": [
        "https://github.com/Amsyal/Praktikum/blob/main/pert_9.ipynb"
      ],
      "metadata": {
        "id": "1YYTokqVQ8an"
      }
    }
  ]
}