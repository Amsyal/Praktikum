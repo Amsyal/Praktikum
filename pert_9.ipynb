{
  "nbformat": 4,
  "nbformat_minor": 0,
  "metadata": {
    "colab": {
      "provenance": [],
      "authorship_tag": "ABX9TyN9sVeR3T8+OFBnIa12uJod",
      "include_colab_link": true
    },
    "kernelspec": {
      "name": "python3",
      "display_name": "Python 3"
    },
    "language_info": {
      "name": "python"
    }
  },
  "cells": [
    {
      "cell_type": "markdown",
      "metadata": {
        "id": "view-in-github",
        "colab_type": "text"
      },
      "source": [
        "<a href=\"https://colab.research.google.com/github/Amsyal/Praktikum/blob/main/pert_9.ipynb\" target=\"_parent\"><img src=\"https://colab.research.google.com/assets/colab-badge.svg\" alt=\"Open In Colab\"/></a>"
      ]
    },
    {
      "cell_type": "markdown",
      "source": [
        "Perbedaan dari list, tuple, set dan dictionary dalam python:\n",
        "\n",
        "*   List adalah kumpulan data yang terurut dan dapat diubah. Mengizinkan anggota yang duplikat.\n",
        "*   Tuple adalah kumpulan data yang terurut dan tidak dapat diubah. Mengizinkan anggota yang duplikat.\n",
        "*   Set adalah kumpulan data yang tidak terurut, tidak dapat diubah, dan tidak terindeks. Tidak mengizinkan anggota yang duplikat.\n",
        "*   Dictionary adalah kumpulan data yang terurut dan dapat diubah. Tidak mengizinkan anggota yang duplikat.\n",
        "\n",
        "\n",
        "\n",
        "\n",
        "\n",
        "\n",
        "\n"
      ],
      "metadata": {
        "id": "WXMQ8ByqCkyx"
      }
    },
    {
      "cell_type": "code",
      "execution_count": 6,
      "metadata": {
        "colab": {
          "base_uri": "https://localhost:8080/"
        },
        "id": "WVOpcJy14gt4",
        "outputId": "934c8028-a630-4189-d519-8718bceea4a4"
      },
      "outputs": [
        {
          "output_type": "stream",
          "name": "stdout",
          "text": [
            "Nama : Trent-Alexander Amsal\n",
            "Kelas : 02\n",
            "Tanggal Lahir : 29 Februari 2006\n",
            "No. HP : 08122345678\n",
            "Alamat : Denmak\n",
            "Hobi : Makan, Tidur, Main bola\n"
          ]
        }
      ],
      "source": [
        "dictionary_mhs = {\n",
        "        \"Nama\" : \"Trent-Alexander Amsal\",\n",
        "        \"Kelas\" : \"02\",\n",
        "        \"Tanggal Lahir\" : \"29 Februari 2006\",\n",
        "        \"No. HP\" : \"08122345678\",\n",
        "        \"Alamat\" : \"Denmak\",\n",
        "        \"Hobi\" : ['Makan', 'Tidur', 'Main bola']\n",
        "}\n",
        "\n",
        "for key, value in dictionary_mhs.items():\n",
        "  if key == \"Hobi\":\n",
        "    print(key, \":\", \", \".join(value))\n",
        "  else:\n",
        "    print(key, \":\", value)"
      ]
    },
    {
      "cell_type": "markdown",
      "source": [
        "https://github.com/Amsyal/Praktikum/blob/main/pert_9.ipynb"
      ],
      "metadata": {
        "id": "1YYTokqVQ8an"
      }
    }
  ]
}