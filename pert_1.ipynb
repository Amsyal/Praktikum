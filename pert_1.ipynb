{
  "nbformat": 4,
  "nbformat_minor": 0,
  "metadata": {
    "colab": {
      "provenance": [],
      "authorship_tag": "ABX9TyPrjMPR1IDCXfFCFeN8UiMp",
      "include_colab_link": true
    },
    "kernelspec": {
      "name": "python3",
      "display_name": "Python 3"
    },
    "language_info": {
      "name": "python"
    }
  },
  "cells": [
    {
      "cell_type": "markdown",
      "metadata": {
        "id": "view-in-github",
        "colab_type": "text"
      },
      "source": [
        "<a href=\"https://colab.research.google.com/github/Amsyal/Praktikum/blob/main/pert_1.ipynb\" target=\"_parent\"><img src=\"https://colab.research.google.com/assets/colab-badge.svg\" alt=\"Open In Colab\"/></a>"
      ]
    },
    {
      "cell_type": "markdown",
      "source": [
        "## Minggu ke-1"
      ],
      "metadata": {
        "id": "FcV73qZcLE9k"
      }
    },
    {
      "cell_type": "markdown",
      "source": [
        "Say hello to world, in python\n"
      ],
      "metadata": {
        "id": "cvfBXxi59Hcc"
      }
    },
    {
      "cell_type": "code",
      "source": [
        "# Try Your First Python Output\n",
        "print('Hello, Python!')"
      ],
      "metadata": {
        "colab": {
          "base_uri": "https://localhost:8080/"
        },
        "id": "fuGfloOV9iUj",
        "outputId": "e2e2ee9d-8f57-4643-f691-5080a157d290"
      },
      "execution_count": null,
      "outputs": [
        {
          "output_type": "stream",
          "name": "stdout",
          "text": [
            "Hello, Python!\n"
          ]
        }
      ]
    },
    {
      "cell_type": "markdown",
      "source": [],
      "metadata": {
        "id": "_FXXDIo1-aDb"
      }
    },
    {
      "cell_type": "code",
      "source": [
        "# Mencoba menampilkan \"Teknologi Informasi - Universitas Tidar\"\n",
        "print(\"Teknologi Informasi - Univetsitas Tidar\")"
      ],
      "metadata": {
        "colab": {
          "base_uri": "https://localhost:8080/"
        },
        "id": "W-PbIHu5By5h",
        "outputId": "b0dcfbb7-e64f-4a17-8b22-fc26d64b7b13"
      },
      "execution_count": null,
      "outputs": [
        {
          "output_type": "stream",
          "name": "stdout",
          "text": [
            "Teknologi Informasi - Univetsitas Tidar\n"
          ]
        }
      ]
    },
    {
      "cell_type": "code",
      "source": [
        "# Cek versi python\n",
        "import sys\n",
        "print(sys.version)"
      ],
      "metadata": {
        "id": "cvGEk1C-CU9A",
        "colab": {
          "base_uri": "https://localhost:8080/"
        },
        "outputId": "54c6ca82-4a74-4f52-d6b8-dec12a583a95"
      },
      "execution_count": null,
      "outputs": [
        {
          "output_type": "stream",
          "name": "stdout",
          "text": [
            "3.10.12 (main, Jul 29 2024, 16:56:48) [GCC 11.4.0]\n"
          ]
        }
      ]
    },
    {
      "cell_type": "code",
      "source": [
        "# mencoba menulis comments\n",
        "\n",
        "print(\"Hello python\") #Untuk menampilkan hello python\n",
        "print(\"Hi\") #Untuk menampilkan Hi\n",
        "\n"
      ],
      "metadata": {
        "colab": {
          "base_uri": "https://localhost:8080/"
        },
        "id": "B865aYtEDNBH",
        "outputId": "532f6786-e0f7-4eed-fa8a-cb4240bcbac6"
      },
      "execution_count": null,
      "outputs": [
        {
          "output_type": "stream",
          "name": "stdout",
          "text": [
            "Hello python\n",
            "Hi\n"
          ]
        }
      ]
    },
    {
      "cell_type": "markdown",
      "source": [
        "Error di python"
      ],
      "metadata": {
        "id": "2n1R0L3LDvbQ"
      }
    },
    {
      "cell_type": "code",
      "source": [
        "frint(\"Hello python\")"
      ],
      "metadata": {
        "colab": {
          "base_uri": "https://localhost:8080/",
          "height": 141
        },
        "id": "09-C7rVFDyyX",
        "outputId": "4938e9a0-1128-4d18-8098-b86d601513b6"
      },
      "execution_count": null,
      "outputs": [
        {
          "output_type": "error",
          "ename": "NameError",
          "evalue": "name 'frint' is not defined",
          "traceback": [
            "\u001b[0;31m---------------------------------------------------------------------------\u001b[0m",
            "\u001b[0;31mNameError\u001b[0m                                 Traceback (most recent call last)",
            "\u001b[0;32m<ipython-input-9-1650ce09637b>\u001b[0m in \u001b[0;36m<cell line: 1>\u001b[0;34m()\u001b[0m\n\u001b[0;32m----> 1\u001b[0;31m \u001b[0mfrint\u001b[0m\u001b[0;34m(\u001b[0m\u001b[0;34m\"Hello python\"\u001b[0m\u001b[0;34m)\u001b[0m\u001b[0;34m\u001b[0m\u001b[0;34m\u001b[0m\u001b[0m\n\u001b[0m",
            "\u001b[0;31mNameError\u001b[0m: name 'frint' is not defined"
          ]
        }
      ]
    },
    {
      "cell_type": "code",
      "source": [
        "print('Hello, python!)"
      ],
      "metadata": {
        "colab": {
          "base_uri": "https://localhost:8080/",
          "height": 106
        },
        "id": "8WcK3b1cD8rG",
        "outputId": "9736e093-217f-4099-edc2-777d732fa9f1"
      },
      "execution_count": null,
      "outputs": [
        {
          "output_type": "error",
          "ename": "SyntaxError",
          "evalue": "unterminated string literal (detected at line 1) (<ipython-input-10-a2c7b5e260f6>, line 1)",
          "traceback": [
            "\u001b[0;36m  File \u001b[0;32m\"<ipython-input-10-a2c7b5e260f6>\"\u001b[0;36m, line \u001b[0;32m1\u001b[0m\n\u001b[0;31m    print('Hello, python!)\u001b[0m\n\u001b[0m          ^\u001b[0m\n\u001b[0;31mSyntaxError\u001b[0m\u001b[0;31m:\u001b[0m unterminated string literal (detected at line 1)\n"
          ]
        }
      ]
    },
    {
      "cell_type": "markdown",
      "source": [
        "## Latihan pertama\n",
        "\n",
        "Gunakan function print() untuk menampilkan Hello, world!"
      ],
      "metadata": {
        "id": "FEHJYP7VEajm"
      }
    },
    {
      "cell_type": "code",
      "source": [
        "# Menampilkan hello world\n",
        "print(\"Hello, world!\")"
      ],
      "metadata": {
        "colab": {
          "base_uri": "https://localhost:8080/"
        },
        "id": "HBVlCvVKEjWm",
        "outputId": "e055a90b-6358-45f3-af83-875197b7c157"
      },
      "execution_count": null,
      "outputs": [
        {
          "output_type": "stream",
          "name": "stdout",
          "text": [
            "Hello, world!\n"
          ]
        }
      ]
    },
    {
      "cell_type": "code",
      "source": [],
      "metadata": {
        "id": "i58U9xpxFj3q"
      },
      "execution_count": null,
      "outputs": []
    },
    {
      "cell_type": "markdown",
      "source": [
        "# Latihan mingguan 1\n",
        "Buat sebuah program untuk menampilkan biodata anda\n"
      ],
      "metadata": {
        "id": "E8BAl9HvFiZd"
      }
    },
    {
      "cell_type": "code",
      "source": [
        "print(\"Nama         : Muhammad Amsyal Ikhsan \\n\") #untuk menampilkan nama\n",
        "print(\"NPM          : 2440506062 \\n\") # untuk menampilkan npm\n",
        "print(\"Alamat       : Demak \\n\") # untuk menampilkan alamat\n",
        "print(\"Tinggi Badan : 170 \\n\") # untuk manampilkan tinggi badan\n",
        "print(\"Berat Badan  : 55.2 \\n\") # untuk menampilkan berat badan"
      ],
      "metadata": {
        "colab": {
          "base_uri": "https://localhost:8080/"
        },
        "id": "ahLRyNvrGG4m",
        "outputId": "5f7a28f5-56bc-4999-b13f-61d6be8d93b0"
      },
      "execution_count": 1,
      "outputs": [
        {
          "output_type": "stream",
          "name": "stdout",
          "text": [
            "Nama         : Muhammad Amsyal Ikhsan \n",
            "\n",
            "NPM          : 2440506062 \n",
            "\n",
            "Alamat       : Demak \n",
            "\n",
            "Tinggi Badan : 170 \n",
            "\n",
            "Berat Badan  : 55.2 \n",
            "\n"
          ]
        }
      ]
    },
    {
      "cell_type": "markdown",
      "source": [
        "# Latihan mingguan 2\n"
      ],
      "metadata": {
        "id": "akRGBJfqHgNd"
      }
    },
    {
      "cell_type": "code",
      "source": [
        "print(\"\\033[1mUNIVERSITAS TIDAR\\033[0m\")\n",
        "print(\"Universitas Tidar merupakan Perguruan Tinggi Negeri yang telah ditetapkan berdasarkan Peraturan Presiden Republik Indonesia nomor 23 tahun 2014 pada tanggal 1 April 2014\\n\")\n",
        "print(\"\\033[1mJURUSAN TEKNIK ELEKTRO, MEKATRONIKA DAN TEKNOLOGI INFORMASI\\033[0m\")\n",
        "print(\"Jurusan teknik elektro terdiri tiga program studi, antara lain:\")\n",
        "print(\"   1. S1 Teknik Elektro \\x1b[3m(Bachelor of Electrical Engineering)\\x1b[0m\")\n",
        "print(\"   2. S1 Teknologi Informasi \\x1b[3m(Bachelor of Information Technology)\\x1b[0m\")\n",
        "print(\"   3. S1 Teknik Mekatronika \\x1b[3m(Bachelor of Mechatronics Engineering)\")"
      ],
      "metadata": {
        "colab": {
          "base_uri": "https://localhost:8080/"
        },
        "id": "EVtIgpO3He4N",
        "outputId": "ae9943b4-3a42-40cc-efe1-a28b3435315a"
      },
      "execution_count": null,
      "outputs": [
        {
          "output_type": "stream",
          "name": "stdout",
          "text": [
            "\u001b[1mUNIVERSITAS TIDAR\u001b[0m\n",
            "Universitas Tidar merupakan Perguruan Tinggi Negeri yang telah ditetapkan berdasarkan Peraturan Presiden Republik Indonesia nomor 23 tahun 2014 pada tanggal 1 April 2014\n",
            "\n",
            "\u001b[1mJURUSAN TEKNIK ELEKTRO, MEKATRONIKA DAN TEKNOLOGI INFORMASI\u001b[0m\n",
            "Jurusan teknik elektro terdiri tiga program studi, antara lain:\n",
            "   1. S1 Teknik Elektro \u001b[3m(Bachelor of Electrical Engineering)\u001b[0m\n",
            "   2. S1 Teknologi Informasi \u001b[3m(Bachelor of Information Technology)\u001b[0m\n",
            "   3. S1 Teknik Mekatronika \u001b[3m(Bachelor of Mechatronics Engineering)\n"
          ]
        }
      ]
    },
    {
      "cell_type": "code",
      "source": [],
      "metadata": {
        "id": "l6r_iMj_F_6O"
      },
      "execution_count": null,
      "outputs": []
    }
  ]
}