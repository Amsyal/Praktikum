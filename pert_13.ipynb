{
  "nbformat": 4,
  "nbformat_minor": 0,
  "metadata": {
    "colab": {
      "provenance": [],
      "authorship_tag": "ABX9TyP8PwvpLKWsGztiwKEUbyos",
      "include_colab_link": true
    },
    "kernelspec": {
      "name": "python3",
      "display_name": "Python 3"
    },
    "language_info": {
      "name": "python"
    }
  },
  "cells": [
    {
      "cell_type": "markdown",
      "metadata": {
        "id": "view-in-github",
        "colab_type": "text"
      },
      "source": [
        "<a href=\"https://colab.research.google.com/github/Amsyal/Praktikum/blob/main/pert_13.ipynb\" target=\"_parent\"><img src=\"https://colab.research.google.com/assets/colab-badge.svg\" alt=\"Open In Colab\"/></a>"
      ]
    },
    {
      "cell_type": "code",
      "execution_count": 7,
      "metadata": {
        "colab": {
          "base_uri": "https://localhost:8080/"
        },
        "id": "voj1Zt11b-l8",
        "outputId": "c2b7e444-9993-4ee4-9105-64436247dbff"
      },
      "outputs": [
        {
          "output_type": "stream",
          "name": "stdout",
          "text": [
            "===================================\n",
            "         Daftar Alat Tulis         \n",
            "===================================\n",
            "Nama         : Bolpoint\n",
            "Stok         : 10\n",
            "Harga Satuan : Rp 2,000\n",
            "Harga Total  : Rp 20,000\n",
            "-----------------------------------\n",
            "Nama         : Pensil\n",
            "Stok         : 10\n",
            "Harga Satuan : Rp 1,000\n",
            "Harga Total  : Rp 10,000\n",
            "-----------------------------------\n",
            "Nama         : Penghapus\n",
            "Stok         : 10\n",
            "Harga Satuan : Rp 500\n",
            "Harga Total  : Rp 5,000\n",
            "===================================\n",
            "Total Harga Semua Alat Tulis : Rp 35,000\n"
          ]
        }
      ],
      "source": [
        "class AlatTulis:\n",
        "    def __init__(self, nama, stok, harga_satuan):\n",
        "        self.nama = nama\n",
        "        self.stok = stok\n",
        "        self.harga_satuan = harga_satuan\n",
        "        self.harga_total = stok * harga_satuan\n",
        "\n",
        "bolpoint = AlatTulis(\"Bolpoint\", 10, 2000)\n",
        "pensil = AlatTulis(\"Pensil\", 10, 1000)\n",
        "penghapus = AlatTulis(\"Penghapus\", 10, 500)\n",
        "\n",
        "print(\"===================================\")\n",
        "print(\"         Daftar Alat Tulis         \")\n",
        "print(\"===================================\")\n",
        "print(f\"Nama         : {bolpoint.nama}\")\n",
        "print(f\"Stok         : {bolpoint.stok}\")\n",
        "print(f\"Harga Satuan : Rp {bolpoint.harga_satuan:,}\")\n",
        "print(f\"Harga Total  : Rp {bolpoint.harga_total:,}\")\n",
        "print(\"-----------------------------------\")\n",
        "print(f\"Nama         : {pensil.nama}\")\n",
        "print(f\"Stok         : {pensil.stok}\")\n",
        "print(f\"Harga Satuan : Rp {pensil.harga_satuan:,}\")\n",
        "print(f\"Harga Total  : Rp {pensil.harga_total:,}\")\n",
        "print(\"-----------------------------------\")\n",
        "print(f\"Nama         : {penghapus.nama}\")\n",
        "print(f\"Stok         : {penghapus.stok}\")\n",
        "print(f\"Harga Satuan : Rp {penghapus.harga_satuan:,}\")\n",
        "print(f\"Harga Total  : Rp {penghapus.harga_total:,}\")\n",
        "print(\"===================================\")\n",
        "\n",
        "total_harga = bolpoint.harga_total + pensil.harga_total + penghapus.harga_total\n",
        "print(f\"Total Harga Semua Alat Tulis : Rp {total_harga:,}\")"
      ]
    }
  ]
}