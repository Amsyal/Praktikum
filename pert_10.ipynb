{
  "nbformat": 4,
  "nbformat_minor": 0,
  "metadata": {
    "colab": {
      "provenance": [],
      "authorship_tag": "ABX9TyNFUxx6naCYahy0ShSLPc3q",
      "include_colab_link": true
    },
    "kernelspec": {
      "name": "python3",
      "display_name": "Python 3"
    },
    "language_info": {
      "name": "python"
    }
  },
  "cells": [
    {
      "cell_type": "markdown",
      "metadata": {
        "id": "view-in-github",
        "colab_type": "text"
      },
      "source": [
        "<a href=\"https://colab.research.google.com/github/Amsyal/Praktikum/blob/main/pert_10.ipynb\" target=\"_parent\"><img src=\"https://colab.research.google.com/assets/colab-badge.svg\" alt=\"Open In Colab\"/></a>"
      ]
    },
    {
      "cell_type": "code",
      "execution_count": null,
      "metadata": {
        "colab": {
          "base_uri": "https://localhost:8080/"
        },
        "id": "-t8BuWJwDPoA",
        "outputId": "4e63d891-f6fe-4a50-a3a7-416410c5ec9b"
      },
      "outputs": [
        {
          "output_type": "stream",
          "name": "stdout",
          "text": [
            "Masukkan angka:-9\n",
            "masukkan angka yang lebih besar atau sama dengan nol. \n"
          ]
        }
      ],
      "source": [
        "user_input = int(input('Masukkan angka:'))\n",
        "\n",
        "def faktorial(n):\n",
        "    if n == 0:\n",
        "        return 1\n",
        "    else:\n",
        "        return n * faktorial(n-1)\n",
        "\n",
        "if user_input < 0:\n",
        "    print(\"masukkan angka yang lebih besar atau sama dengan nol. \")\n",
        "else:\n",
        "    print(f\"nilai dari {user_input} faktorial adalah: {faktorial(user_input)}\")\n"
      ]
    },
    {
      "cell_type": "code",
      "source": [
        "\n",
        "def l_lingkaran(n):\n",
        "    return 3.14 * n * n\n",
        "\n",
        "def l_persegi(n):\n",
        "    return n * n\n",
        "\n",
        "def l_segitiga(alas, tinggi):\n",
        "    return (alas * tinggi) / 2\n",
        "\n",
        "\n",
        "while True:\n",
        "    perhitungan = input('pilih salah satu perhitngan \\n1. luas lingkaran, \\n2. luas persegi, \\n3. luas segitiga, \\n4. selesai/enter untuk keluar:').lower()\n",
        "    if perhitungan == \"luas lingkaran\" or perhitungan == \"1\":\n",
        "        jari_jari = int(input(\" masukkan panjang jari-jari: \"))\n",
        "        print(l_lingkaran(jari_jari))\n",
        "    elif perhitungan == \"luas persegi\" or perhitungan == \"2\":\n",
        "        sisi = int(input('masukkan panjang sisi: '))\n",
        "        print(l_persegi(sisi))\n",
        "    elif perhitungan == \"luas segitiga\" or perhitungan == \"3\":\n",
        "        alas = int(input(\"masukkan panjang alas: \"))\n",
        "        tinggi = int(input(\"masukkan tinggi: \"))\n",
        "        print(l_segitiga(alas, tinggi))\n",
        "    elif perhitungan == \"selesai\" or perhitungan == False or perhitungan == \"4\":\n",
        "        break\n",
        "    else:\n",
        "        print('pilih salah satu')"
      ],
      "metadata": {
        "colab": {
          "base_uri": "https://localhost:8080/"
        },
        "id": "iy0wol1lEttY",
        "outputId": "c077f3f1-700f-4e04-bb93-f951d36dbbcc"
      },
      "execution_count": 2,
      "outputs": [
        {
          "name": "stdout",
          "output_type": "stream",
          "text": [
            "pilih salah satu perhitngan \n",
            "1. luas lingkaran, \n",
            "2. luas persegi, \n",
            "3. luas segitiga, \n",
            "4. selesai/enter untuk keluar:1\n",
            " masukkan panjang jari-jari: 7\n",
            "153.86\n",
            "pilih salah satu perhitngan \n",
            "1. luas lingkaran, \n",
            "2. luas persegi, \n",
            "3. luas segitiga, \n",
            "4. selesai/enter untuk keluar:luas persegi\n",
            "masukkan panjang sisi: 5\n",
            "25\n",
            "pilih salah satu perhitngan \n",
            "1. luas lingkaran, \n",
            "2. luas persegi, \n",
            "3. luas segitiga, \n",
            "4. selesai/enter untuk keluar:luas segitiga\n",
            "masukkan panjang alas: 4\n",
            "masukkan tinggi: 5\n",
            "10.0\n",
            "pilih salah satu perhitngan \n",
            "1. luas lingkaran, \n",
            "2. luas persegi, \n",
            "3. luas segitiga, \n",
            "4. selesai/enter untuk keluar:4\n"
          ]
        }
      ]
    }
  ]
}