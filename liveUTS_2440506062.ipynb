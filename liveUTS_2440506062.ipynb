{
  "nbformat": 4,
  "nbformat_minor": 0,
  "metadata": {
    "colab": {
      "provenance": [],
      "authorship_tag": "ABX9TyN+Ff5Od11L3sqK7AqtLLf2",
      "include_colab_link": true
    },
    "kernelspec": {
      "name": "python3",
      "display_name": "Python 3"
    },
    "language_info": {
      "name": "python"
    }
  },
  "cells": [
    {
      "cell_type": "markdown",
      "metadata": {
        "id": "view-in-github",
        "colab_type": "text"
      },
      "source": [
        "<a href=\"https://colab.research.google.com/github/Amsyal/Praktikum/blob/main/liveUTS_2440506062.ipynb\" target=\"_parent\"><img src=\"https://colab.research.google.com/assets/colab-badge.svg\" alt=\"Open In Colab\"/></a>"
      ]
    },
    {
      "cell_type": "code",
      "execution_count": null,
      "metadata": {
        "id": "VLYjdiSyDJk_",
        "colab": {
          "base_uri": "https://localhost:8080/"
        },
        "outputId": "c5d6a9cc-25c9-4382-958e-7654189e3b30"
      },
      "outputs": [
        {
          "output_type": "stream",
          "name": "stdout",
          "text": [
            "Masukkan NPM Anda: 2440506062\n",
            "Jumlah bilangan genap:  9\n",
            "Jumlah bilangan ganjil:  1\n"
          ]
        }
      ],
      "source": [
        "npm = input(\"Masukkan NPM Anda: \")\n",
        "genap = []\n",
        "ganjil = []\n",
        "\n",
        "for i in range(len(npm)):\n",
        "  if int(npm[i]) % 2 == 0:\n",
        "    genap.append(npm[i])\n",
        "  else:\n",
        "    ganjil.append(npm[i])\n",
        "\n",
        "print(\"Jumlah bilangan genap:\",len(genap))\n",
        "print(\"Jumlah bilangan ganjil:\",len(ganjil))"
      ]
    },
    {
      "cell_type": "code",
      "source": [],
      "metadata": {
        "id": "yzPeDMRIIIiq"
      },
      "execution_count": null,
      "outputs": []
    }
  ]
}