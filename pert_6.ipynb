{
  "nbformat": 4,
  "nbformat_minor": 0,
  "metadata": {
    "colab": {
      "provenance": [],
      "authorship_tag": "ABX9TyPlW/es+xhTwtC3cEBJfBg5",
      "include_colab_link": true
    },
    "kernelspec": {
      "name": "python3",
      "display_name": "Python 3"
    },
    "language_info": {
      "name": "python"
    }
  },
  "cells": [
    {
      "cell_type": "markdown",
      "metadata": {
        "id": "view-in-github",
        "colab_type": "text"
      },
      "source": [
        "<a href=\"https://colab.research.google.com/github/Amsyal/Praktikum/blob/main/pert_6.ipynb\" target=\"_parent\"><img src=\"https://colab.research.google.com/assets/colab-badge.svg\" alt=\"Open In Colab\"/></a>"
      ]
    },
    {
      "cell_type": "code",
      "execution_count": null,
      "metadata": {
        "id": "AqcuPVt0E_Rx",
        "colab": {
          "base_uri": "https://localhost:8080/"
        },
        "outputId": "6b39875a-033a-4585-cc12-154b9c534a49"
      },
      "outputs": [
        {
          "output_type": "stream",
          "name": "stdout",
          "text": [
            "Masukkan angka: 21\n",
            "                    * \n",
            "                   * * \n",
            "                  * * * \n",
            "                 * * * * \n",
            "                * * * * * \n",
            "               * * * * * * \n",
            "              * * * * * * * \n",
            "             * * * * * * * * \n",
            "            * * * * * * * * * \n",
            "           * * * * * * * * * * \n",
            "          * * * * * * * * * * * \n",
            "         * * * * * * * * * * * * \n",
            "        * * * * * * * * * * * * * \n",
            "       * * * * * * * * * * * * * * \n",
            "      * * * * * * * * * * * * * * * \n",
            "     * * * * * * * * * * * * * * * * \n",
            "    * * * * * * * * * * * * * * * * * \n",
            "   * * * * * * * * * * * * * * * * * * \n",
            "  * * * * * * * * * * * * * * * * * * * \n",
            " * * * * * * * * * * * * * * * * * * * * \n",
            "* * * * * * * * * * * * * * * * * * * * * \n"
          ]
        }
      ],
      "source": [
        "user = int(input(\"Masukkan angka: \"))\n",
        "\n",
        "for i in range(user):\n",
        "  print(\" \" * (user-i-1), end=\"\")\n",
        "  for j in range(i+1):\n",
        "    print(\"*\", end=\" \")\n",
        "  print()"
      ]
    },
    {
      "cell_type": "code",
      "source": [
        "user = int(input(\"Masukkan angka: \"))\n",
        "\n",
        "for i in range(user):\n",
        "  print(\" \" * (user-i-1), end=\"\")\n",
        "  pascal = 1\n",
        "  for j in range(i+1):\n",
        "    print(pascal, end=\" \")\n",
        "    pascal = pascal * (i-j) // (j+1)\n",
        "  print()"
      ],
      "metadata": {
        "colab": {
          "base_uri": "https://localhost:8080/"
        },
        "id": "-pPj2jCSGQdP",
        "outputId": "3a38b525-c42b-42a8-9a38-ef050ae60448"
      },
      "execution_count": null,
      "outputs": [
        {
          "output_type": "stream",
          "name": "stdout",
          "text": [
            "Masukkan angka: 5\n",
            "    1 \n",
            "   1 1 \n",
            "  1 2 1 \n",
            " 1 3 3 1 \n",
            "1 4 6 4 1 \n"
          ]
        }
      ]
    },
    {
      "cell_type": "code",
      "source": [
        "user = int(input(\"Masukkan angka: \"))\n",
        "\n",
        "for i in range(user):\n",
        "  pascal = []\n",
        "  for j in range(i + 1):\n",
        "    if j == 0 or j == i:\n",
        "      pascal.append(1)\n",
        "    else:\n",
        "      pascal.append(pascal[j-1] * (i-j+1) // j)\n",
        "print(pascal, 'jumlah dari baris ini adalah ',sum(pascal))"
      ],
      "metadata": {
        "colab": {
          "base_uri": "https://localhost:8080/"
        },
        "id": "R_TGNcNGJZbg",
        "outputId": "005d5b3d-181f-403d-f4f4-76bfa8faa91c"
      },
      "execution_count": null,
      "outputs": [
        {
          "output_type": "stream",
          "name": "stdout",
          "text": [
            "Masukkan angka: 5\n",
            "[1, 4, 6, 4, 1] jumlah dari baris ini adalah  16\n"
          ]
        }
      ]
    },
    {
      "cell_type": "code",
      "source": [
        "user = int(input(\"Masukkan angka: \"))\n",
        "\n",
        "for i in range(user):\n",
        "  print(\" \" * (user-i-1), end=\"\")\n",
        "  for j in range(i+1):\n",
        "    print(\" *\", end=\"\")\n",
        "  print()"
      ],
      "metadata": {
        "colab": {
          "base_uri": "https://localhost:8080/"
        },
        "id": "LCcO_G2DFoax",
        "outputId": "79114c95-433e-4ada-a157-8073325641da"
      },
      "execution_count": null,
      "outputs": [
        {
          "output_type": "stream",
          "name": "stdout",
          "text": [
            "Masukkan angka: 10\n",
            "          *\n",
            "         * *\n",
            "        * * *\n",
            "       * * * *\n",
            "      * * * * *\n",
            "     * * * * * *\n",
            "    * * * * * * *\n",
            "   * * * * * * * *\n",
            "  * * * * * * * * *\n",
            " * * * * * * * * * *\n"
          ]
        }
      ]
    }
  ]
}